{
 "cells": [
  {
   "cell_type": "markdown",
   "id": "891ddaea-cd08-4c4a-8bdd-a5bd65f4b5f1",
   "metadata": {},
   "source": [
    "[Click here to view the file on Google Drive](https://drive.google.com/file/d/1JqhU5oR6R-S6WcOmTjE3RnftYt5kb0nR/view?usp=drive_link)"
   ]
  }
 ],
 "metadata": {
  "kernelspec": {
   "display_name": "Python 3 (ipykernel)",
   "language": "python",
   "name": "python3"
  },
  "language_info": {
   "codemirror_mode": {
    "name": "ipython",
    "version": 3
   },
   "file_extension": ".py",
   "mimetype": "text/x-python",
   "name": "python",
   "nbconvert_exporter": "python",
   "pygments_lexer": "ipython3",
   "version": "3.12.3"
  }
 },
 "nbformat": 4,
 "nbformat_minor": 5
}
